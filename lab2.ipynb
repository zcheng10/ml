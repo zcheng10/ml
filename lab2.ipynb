{
 "cells": [
  {
   "cell_type": "code",
   "execution_count": 62,
   "id": "f4f2ed21-9357-4a6a-af4c-4351d3ec1f64",
   "metadata": {},
   "outputs": [
    {
     "name": "stdout",
     "output_type": "stream",
     "text": [
      "Parameter containing:\n",
      "tensor([[0.8132],\n",
      "        [0.2947]], requires_grad=True)\n",
      "[[12]\n",
      " [40]] (2, 1)\n",
      "tensor([[ 9.1581, -4.8267]])\n",
      "sin, y =  tensor([[-0.2558]], grad_fn=<SinBackward0>) tensor([[-0.9965]])\n"
     ]
    }
   ],
   "source": [
    "import numpy as np\n",
    "import torch\n",
    "import torch.nn as nn\n",
    "import matplotlib.pyplot as plt\n",
    "\n",
    "class Sin(nn.Module):\n",
    "    def __init__(self):\n",
    "        super(Sin, self).__init__()\n",
    "        # -- must register this as parameter\n",
    "        self.w = torch.nn.Parameter(torch.rand(2, 1))\n",
    "\n",
    "    # xb is a bacth of x_i, i.e., x1, x2, .., xn\n",
    "    def forward(self, input):\n",
    "        output = torch.sin(torch.matmul(input, self.w))\n",
    "        # output.requires_grad=True\n",
    "        return output\n",
    "        \n",
    "# generate a sample batch: 20*2 input tensors, 20*2 output tensors\n",
    "# there are 20 samples in a batch\n",
    "def gen_samples(N, k):\n",
    "    x = np.random.uniform(-10, 10, [N, 2])\n",
    "    y = np.sin(np.matmul(x, k))\n",
    "    xb = torch.tensor(x.astype('float32'))\n",
    "    yb = torch.tensor(y.astype('float32'))\n",
    "    return xb, yb\n",
    "    \n",
    "sn = Sin()\n",
    "print(sn.w)\n",
    "list1 = [12, 40]\n",
    "k = np.array(list1).transpose().reshape(2,1)\n",
    "print(k, k.shape)\n",
    "xb, yb = gen_samples(1, k)\n",
    "print(xb)\n",
    "print(\"sin, y = \", sn(xb), yb)"
   ]
  },
  {
   "cell_type": "code",
   "execution_count": 67,
   "id": "a3f97324-b7f8-4f2d-af00-e54b400800a6",
   "metadata": {},
   "outputs": [
    {
     "name": "stdout",
     "output_type": "stream",
     "text": [
      "Sin()\n",
      "Parameter containing:\n",
      "tensor([[0.5838],\n",
      "        [1.1248]], requires_grad=True) vs. [[10]\n",
      " [35]]\n"
     ]
    },
    {
     "data": {
      "text/plain": [
       "[<matplotlib.lines.Line2D at 0x21418375590>]"
      ]
     },
     "execution_count": 67,
     "metadata": {},
     "output_type": "execute_result"
    },
    {
     "data": {
      "image/png": "[encoded data removed]",
      "text/plain": [
       "<Figure size 640x480 with 1 Axes>"
      ]
     },
     "metadata": {},
     "output_type": "display_data"
    }
   ],
   "source": [
    "# train the model once, and return the loss in this epoch\n",
    "def train_epoch(batch_in, batch_out, optimizer, model):\n",
    "    input = batch_in\n",
    "    output = model(input)\n",
    "    loss = nn.functional.l1_loss(output, batch_out)\n",
    "    model.zero_grad()\n",
    "    loss.backward()\n",
    "    optimizer.step()\n",
    "    return loss\n",
    "\n",
    "# sn is an instance of the model\n",
    "sn = Sin()\n",
    "print(sn)\n",
    "\n",
    "\n",
    "# optimizer for training\n",
    "optimizer = torch.optim.SGD(sn.parameters(), lr = 1e-3, \n",
    "                            weight_decay = 1e-3, momentum = 0.9)\n",
    "\n",
    "# ep records losses during training\n",
    "ep = []\n",
    "list1 = [12, 40]\n",
    "k = np.array(list1).transpose().reshape(2,1)\n",
    "#k = 3.1415926 / 4\n",
    "xb, yb = gen_samples(100, k)\n",
    "\n",
    "k2 = k;\n",
    "k2[0, 0] = 10;\n",
    "k2[1, 0] = 35;\n",
    "sn.w.tensor = torch.tensor(k2.astype('float32'))\n",
    "for i in range(10000):\n",
    "  # xb, yb = gen_samples(k)\n",
    "  loss = train_epoch(xb, yb, optimizer, sn)\n",
    "  if i % 10 == 0:\n",
    "      # -- you can not plot tensors. Need to\n",
    "      # change them into np vectors\n",
    "      ep.append(loss.detach().numpy())\n",
    "\n",
    "# show the trained parameters and plot losses\n",
    "print(sn.w, 'vs.', k)\n",
    "plt.figure()\n",
    "plt.plot(np.arange(len(ep)), ep)"
   ]
  },
  {
   "cell_type": "code",
   "execution_count": null,
   "id": "65df8875-8ed8-4b74-b05b-c1eea50501cd",
   "metadata": {},
   "outputs": [],
   "source": []
  }
 ],
 "metadata": {
  "kernelspec": {
   "display_name": "Python 3 (ipykernel)",
   "language": "python",
   "name": "python3"
  },
  "language_info": {
   "codemirror_mode": {
    "name": "ipython",
    "version": 3
   },
   "file_extension": ".py",
   "mimetype": "text/x-python",
   "name": "python",
   "nbconvert_exporter": "python",
   "pygments_lexer": "ipython3",
   "version": "3.11.3"
  }
 },
 "nbformat": 4,
 "nbformat_minor": 5
}
